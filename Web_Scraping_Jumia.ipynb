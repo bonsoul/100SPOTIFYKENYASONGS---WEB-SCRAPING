{
  "nbformat": 4,
  "nbformat_minor": 0,
  "metadata": {
    "colab": {
      "provenance": [],
      "authorship_tag": "ABX9TyOzo6Q3+nMhkf76l/9tyLwO",
      "include_colab_link": true
    },
    "kernelspec": {
      "name": "python3",
      "display_name": "Python 3"
    },
    "language_info": {
      "name": "python"
    }
  },
  "cells": [
    {
      "cell_type": "markdown",
      "metadata": {
        "id": "view-in-github",
        "colab_type": "text"
      },
      "source": [
        "<a href=\"https://colab.research.google.com/github/bonsoul/100SPOTIFYKENYASONGS---WEB-SCRAPING/blob/main/Web_Scraping_Jumia.ipynb\" target=\"_parent\"><img src=\"https://colab.research.google.com/assets/colab-badge.svg\" alt=\"Open In Colab\"/></a>"
      ]
    },
    {
      "cell_type": "code",
      "execution_count": 5,
      "metadata": {
        "id": "VFnUKu0ch6mI"
      },
      "outputs": [],
      "source": [
        "import os\n",
        "import pandas as pd\n",
        "from bs4 import BeautifulSoup as beauty\n",
        "import requests\n",
        "import re"
      ]
    },
    {
      "cell_type": "code",
      "source": [
        "url = \"https://open.spotify.com/playlist/3I4rXWzBCaHD55SNmJ0sCa\""
      ],
      "metadata": {
        "id": "9mt4cSKTiXQ2"
      },
      "execution_count": null,
      "outputs": []
    },
    {
      "cell_type": "code",
      "source": [
        "all_urls = []\n",
        "\n",
        "# You need to specify the desired number of iterations within the range function.\n",
        "# For example, if you want to loop 10 times:\n",
        "for page in range(10):\n",
        "    url = f\"https://open.spotify.com/playlist/3I4rXWzBCaHD55SNmJ0sCa\"\n",
        "    all_urls.append(url)"
      ],
      "metadata": {
        "id": "l9QA0XP6jVT6"
      },
      "execution_count": 3,
      "outputs": []
    },
    {
      "cell_type": "code",
      "source": [
        "for url in all_urls:\n",
        "    render = requests.get(url)\n",
        "    soup = beauty(render.text, \"html.parser\")\n",
        "    #print(soup)\n",
        "\n",
        "    song_name = [] # create empty lists to store scraped data\n",
        "    artist_name = []\n",
        "    album_name = []\n",
        "    duration_name = []\n",
        "    track_number_name = []\n",
        "\n",
        "    scrape = soup.find_all(class_=\"tracklist-row__song\")\n",
        "    for song in scrape:\n",
        "        #print(song.text)\n",
        "        song_name = song.text\n",
        "        print(song_name)\n",
        "\n",
        "    scrape = soup.find_all(class_=\"tracklist-row__artist\")\n",
        "    for artist in scrape:\n",
        "         #print(artist.text)\n",
        "        artist_name = artist.text\n",
        "        print(artist_name)\n",
        "\n",
        "    scrape = soup.find_all(class_=\"tracklist-row__album\")\n",
        "    for album in scrape:\n",
        "        print(album.text)\n",
        "        album_name = album.text\n",
        "        print(album_name)\n",
        "\n",
        "    scrape = soup.find_all(class_=\"tracklist-row__duration\")\n",
        "    for duration in scrape:\n",
        "        print(duration.text)\n",
        "        duration_name = duration.text\n",
        "        print(duration_name)\n",
        "\n",
        "    scrape = soup.find_all(class_=\"tracklist-row__track_number\")\n",
        "    for track_number in scrape:\n",
        "        print(track_number.text)\n",
        "        track_number_name = track_number.text\n",
        "        print(track_number_name)\n",
        "\n",
        "    scraped_data = pd.DataFrame({\n",
        "        \"song_name\": song_name,\n",
        "        \"artist_name\": artist_name,\n",
        "        \"album_name\": album_name,\n",
        "        \"duration_name\": duration_name,\n",
        "        \"track_number_name\": track_number_name\n",
        "    })\n",
        "    scraped_data.to_csv(\"spotify.data_csv\")\n"
      ],
      "metadata": {
        "id": "ZXl8VgDajVQ6"
      },
      "execution_count": 12,
      "outputs": []
    },
    {
      "cell_type": "code",
      "source": [
        "print(scraped_data)"
      ],
      "metadata": {
        "colab": {
          "base_uri": "https://localhost:8080/"
        },
        "id": "PtK0oV0OjVOM",
        "outputId": "a70d4d26-15f1-41f9-b6ff-34c1ec94fd62"
      },
      "execution_count": 13,
      "outputs": [
        {
          "output_type": "stream",
          "name": "stdout",
          "text": [
            "Empty DataFrame\n",
            "Columns: [song_name, artist_name, album_name, duration_name, track_number_name]\n",
            "Index: []\n"
          ]
        }
      ]
    },
    {
      "cell_type": "code",
      "source": [],
      "metadata": {
        "id": "8mGOGaHZjVGV"
      },
      "execution_count": null,
      "outputs": []
    },
    {
      "cell_type": "code",
      "source": [],
      "metadata": {
        "id": "x1MfH33bjVCs"
      },
      "execution_count": null,
      "outputs": []
    },
    {
      "cell_type": "code",
      "source": [],
      "metadata": {
        "id": "-XDPuwJjjU81"
      },
      "execution_count": null,
      "outputs": []
    },
    {
      "cell_type": "code",
      "source": [],
      "metadata": {
        "id": "WR1-5l34jU40"
      },
      "execution_count": null,
      "outputs": []
    },
    {
      "cell_type": "code",
      "source": [],
      "metadata": {
        "id": "RO-f3dPIjUuU"
      },
      "execution_count": null,
      "outputs": []
    },
    {
      "cell_type": "code",
      "source": [],
      "metadata": {
        "id": "SukcYMPPjUcN"
      },
      "execution_count": null,
      "outputs": []
    }
  ]
}