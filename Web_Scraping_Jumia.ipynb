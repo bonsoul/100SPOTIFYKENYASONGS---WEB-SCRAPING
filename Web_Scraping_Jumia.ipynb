{
  "nbformat": 4,
  "nbformat_minor": 0,
  "metadata": {
    "colab": {
      "provenance": [],
      "authorship_tag": "ABX9TyMcas9opwjA4z0w8Q1k9JxH",
      "include_colab_link": true
    },
    "kernelspec": {
      "name": "python3",
      "display_name": "Python 3"
    },
    "language_info": {
      "name": "python"
    }
  },
  "cells": [
    {
      "cell_type": "markdown",
      "metadata": {
        "id": "view-in-github",
        "colab_type": "text"
      },
      "source": [
        "<a href=\"https://colab.research.google.com/github/bonsoul/100SPOTIFYKENYASONGS---WEB-SCRAPING/blob/main/Web_Scraping_Jumia.ipynb\" target=\"_parent\"><img src=\"https://colab.research.google.com/assets/colab-badge.svg\" alt=\"Open In Colab\"/></a>"
      ]
    },
    {
      "cell_type": "code",
      "execution_count": 1,
      "metadata": {
        "id": "VFnUKu0ch6mI"
      },
      "outputs": [],
      "source": [
        "import os\n",
        "import pandas as pd\n",
        "from bs4 import BeautifulSoup as beaty\n",
        "import requests\n",
        "import re"
      ]
    },
    {
      "cell_type": "code",
      "source": [
        "url = \"https://open.spotify.com/playlist/3I4rXWzBCaHD55SNmJ0sCa\""
      ],
      "metadata": {
        "id": "9mt4cSKTiXQ2"
      },
      "execution_count": null,
      "outputs": []
    }
  ]
}